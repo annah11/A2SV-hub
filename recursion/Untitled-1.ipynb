{
 "cells": [
  {
   "cell_type": "code",
   "execution_count": null,
   "metadata": {},
   "outputs": [],
   "source": []
  },
  {
   "cell_type": "code",
   "execution_count": null,
   "metadata": {},
   "outputs": [],
   "source": [
    "def add_one(num):\n",
    "    return num + 1\n",
    "\n"
   ]
  },
  {
   "cell_type": "code",
   "execution_count": null,
   "metadata": {},
   "outputs": [],
   "source": [
    "def unque(m, n, i=0, j=0):\n",
    "    if i == m - 1 or j == n - 1:\n",
    "        return 1\n",
    "    if i >= m or j >= n:\n",
    "        return 0\n",
    "    return unque(m, n, i + 1, j) + unque(m, n, i, j + 1)\n",
    "\n"
   ]
  },
  {
   "cell_type": "code",
   "execution_count": null,
   "metadata": {},
   "outputs": [],
   "source": [
    "print(unque(3, 3))\n",
    "def unque2(m, n):\n",
    "    if m == 1 or n == 1:\n",
    "        return 1\n",
    "    return unque2(m - 1, n) + unque2(m, n - 1)\n",
    "print(unque2(3, 3))"
   ]
  },
  {
   "cell_type": "code",
   "execution_count": null,
   "metadata": {},
   "outputs": [],
   "source": []
  }
 ],
 "metadata": {
  "kernelspec": {
   "display_name": "Python 3",
   "language": "python",
   "name": "python3"
  },
  "language_info": {
   "name": "python",
   "version": "2.7.18"
  }
 },
 "nbformat": 4,
 "nbformat_minor": 2
}
